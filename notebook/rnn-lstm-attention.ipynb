{
  "nbformat": 4,
  "nbformat_minor": 0,
  "metadata": {
    "colab": {
      "name": "analise-sentimentov4.ipynb",
      "provenance": [],
      "collapsed_sections": [],
      "machine_shape": "hm"
    },
    "kernelspec": {
      "name": "python3",
      "display_name": "Python 3"
    }
  },
  "cells": [
    {
      "cell_type": "code",
      "metadata": {
        "id": "ziwwkxUNZ7Dd",
        "colab_type": "code",
        "colab": {}
      },
      "source": [
        "import os\n",
        "import re\n",
        "import string\n",
        "import codecs\n",
        "import numpy as np\n",
        "import pandas as pd\n",
        "import matplotlib.pyplot as plt\n",
        "import seaborn as sn\n",
        "%matplotlib inline\n",
        "\n",
        "import keras\n",
        "import keras.backend as K\n",
        "from keras import Input\n",
        "from keras.layers import Concatenate\n",
        "from keras.models import Sequential\n",
        "from keras.layers import Activation\n",
        "from keras.layers import Reshape\n",
        "from keras.layers import Dense\n",
        "from keras.layers import Flatten\n",
        "from keras.layers import SimpleRNN\n",
        "from keras.layers import LSTM\n",
        "from keras.layers import GRU\n",
        "from keras.layers import CuDNNLSTM\n",
        "from keras.layers.embeddings import Embedding\n",
        "from keras.layers import Bidirectional\n",
        "from keras.preprocessing import sequence\n",
        "from keras.layers import Dropout\n",
        "from keras.optimizers import Adam\n",
        "from keras.models import load_model\n",
        "from keras import initializers, regularizers, optimizers\n",
        "from keras.engine.topology import Layer\n",
        "from keras import constraints\n",
        "from keras.preprocessing.text import Tokenizer\n",
        "from keras.preprocessing.sequence import pad_sequences\n",
        "from keras.utils.np_utils import to_categorical\n",
        "\n",
        "from sklearn.model_selection import train_test_split\n",
        "from sklearn.metrics import confusion_matrix\n",
        "from sklearn.metrics import accuracy_score\n",
        "from sklearn.metrics import precision_score\n",
        "from sklearn.metrics import recall_score\n",
        "from sklearn.metrics import f1_score\n",
        "\n",
        "from nltk.tokenize import RegexpTokenizer"
      ],
      "execution_count": 0,
      "outputs": []
    },
    {
      "cell_type": "code",
      "metadata": {
        "id": "HoRwXCSwbVck",
        "colab_type": "code",
        "colab": {}
      },
      "source": [
        "from google.colab import drive\n",
        "drive.mount('/content/drive')"
      ],
      "execution_count": 0,
      "outputs": []
    },
    {
      "cell_type": "code",
      "metadata": {
        "id": "50xpMpd1oevW",
        "colab_type": "code",
        "colab": {}
      },
      "source": [
        "!cp \"/content/drive/My Drive/data/reviews_rio_preprocessed.csv\" \"reviews_rio_preprocessed.csv\""
      ],
      "execution_count": 0,
      "outputs": []
    },
    {
      "cell_type": "code",
      "metadata": {
        "id": "DKvv_NZuXLhu",
        "colab_type": "code",
        "colab": {}
      },
      "source": [
        "!cp \"/content/drive/My Drive/data/aclImdb_v1.tar.gz\" \"aclImdb_v1.tar.gz\""
      ],
      "execution_count": 0,
      "outputs": []
    },
    {
      "cell_type": "code",
      "metadata": {
        "id": "HK8DBZxFrDa0",
        "colab_type": "code",
        "colab": {}
      },
      "source": [
        "!cp \"/content/drive/My Drive/data/sample_airbnb.csv\" \"sample_airbnb.csv\""
      ],
      "execution_count": 0,
      "outputs": []
    },
    {
      "cell_type": "code",
      "metadata": {
        "id": "lVW_0SRVnzrl",
        "colab_type": "code",
        "colab": {}
      },
      "source": [
        "!tar -xf aclImdb_v1.tar.gz"
      ],
      "execution_count": 0,
      "outputs": []
    },
    {
      "cell_type": "code",
      "metadata": {
        "id": "7V0tak2uoLT5",
        "colab_type": "code",
        "colab": {}
      },
      "source": [
        "!ls"
      ],
      "execution_count": 0,
      "outputs": []
    },
    {
      "cell_type": "code",
      "metadata": {
        "id": "1uXmUFz2wwGg",
        "colab_type": "code",
        "colab": {}
      },
      "source": [
        "def clean_imdb(directory):\n",
        "    '''\n",
        "    Returns cleaned dataframe of IMDB reviews with columns ['review', 'sentiment']\n",
        "    '''\n",
        "    sentiment = {'neg': 0, 'pos': 1}\n",
        "    df_columns = ['review', 'sentiment']\n",
        "    reviews_with_sentiment = pd.DataFrame(columns = df_columns)\n",
        "    for i in ('test', 'train'):\n",
        "        for j in ('neg', 'pos'):\n",
        "            file_path = directory + i + '/' + j\n",
        "            for file in os.listdir(file_path):\n",
        "                with open((file_path + '/' + file), 'r',\n",
        "                          encoding = 'utf-8') as text_file:\n",
        "                    text = text_file.read()\n",
        "                review = pd.DataFrame([[text, sentiment[j]]],\n",
        "                                      columns = df_columns)\n",
        "                reviews_with_sentiment = reviews_with_sentiment.\\\n",
        "                                         append(review, ignore_index = True)\n",
        "    return reviews_with_sentiment\n",
        "\n",
        "cleaned_imdb = clean_imdb(\"aclImdb/\")"
      ],
      "execution_count": 0,
      "outputs": []
    },
    {
      "cell_type": "code",
      "metadata": {
        "id": "FIyH2n8BygN6",
        "colab_type": "code",
        "colab": {}
      },
      "source": [
        "cleaned_imdb.head()"
      ],
      "execution_count": 0,
      "outputs": []
    },
    {
      "cell_type": "code",
      "metadata": {
        "id": "kwQWIRanzO1f",
        "colab_type": "code",
        "colab": {}
      },
      "source": [
        "len(cleaned_imdb)"
      ],
      "execution_count": 0,
      "outputs": []
    },
    {
      "cell_type": "code",
      "metadata": {
        "id": "7b3OFLMvzfag",
        "colab_type": "code",
        "colab": {}
      },
      "source": [
        "def strip_punctuation_and_whitespace(reviews_df, verbose = True):\n",
        "    '''\n",
        "    Strips all punctuation and whitespace from reviews EXCEPT spaces (i.e. ' ')\n",
        "    Removes \"<br />\"\n",
        "    Returns dataframe of cleaned IMDB reviews\n",
        "    '''\n",
        "    trans_punc = str.maketrans(string.punctuation,\n",
        "                               ' ' * len(string.punctuation))\n",
        "    whitespace_except_space = string.whitespace.replace(' ', '')\n",
        "    trans_white = str.maketrans(whitespace_except_space,\n",
        "                                ' ' * len(whitespace_except_space))\n",
        "    stripped_df = pd.DataFrame(columns = ['review', 'sentiment'])\n",
        "    for i, row in enumerate(reviews_df.values):\n",
        "        if i % 5000 == 0 and verbose == True:\n",
        "            print('Stripping review: ' + str(i) + ' of ' + str(len(reviews_df)))\n",
        "        if type(reviews_df) == pd.DataFrame:\n",
        "            review = row[0]\n",
        "            sentiment = row[1]\n",
        "        elif type(reviews_df) == pd.Series:\n",
        "            review = row\n",
        "            sentiment = np.NaN\n",
        "        try:\n",
        "            review.replace('<br />', ' ')\n",
        "            for trans in [trans_punc, trans_white]:\n",
        "                review = ' '.join(str(review).translate(trans).split())\n",
        "            combined_df = pd.DataFrame([[review, sentiment]],\n",
        "                                       columns = ['review', 'sentiment'])\n",
        "            stripped_df = pd.concat([stripped_df, combined_df],\n",
        "                                    ignore_index = True)\n",
        "        except AttributeError:\n",
        "            continue\n",
        "    return stripped_df\n",
        "\n",
        "stripped_imdb = strip_punctuation_and_whitespace(cleaned_imdb)"
      ],
      "execution_count": 0,
      "outputs": []
    },
    {
      "cell_type": "code",
      "metadata": {
        "id": "hPaFVhhZ09Jt",
        "colab_type": "code",
        "colab": {}
      },
      "source": [
        "stripped_imdb.iloc[200].values"
      ],
      "execution_count": 0,
      "outputs": []
    },
    {
      "cell_type": "code",
      "metadata": {
        "id": "lgmNCaKH1xt6",
        "colab_type": "code",
        "colab": {}
      },
      "source": [
        "stripped_imdb.head()"
      ],
      "execution_count": 0,
      "outputs": []
    },
    {
      "cell_type": "code",
      "metadata": {
        "id": "JIikDTba1l4S",
        "colab_type": "code",
        "colab": {}
      },
      "source": [
        "def get_length_all_reviews(sentences):\n",
        "    '''\n",
        "    Returns a list of length of all reviews\n",
        "    Used for plotting histogram\n",
        "    '''\n",
        "    lengths = [len(i.split(' ')) for i in sentences]\n",
        "    return lengths\n",
        "\n",
        "imdb_lengths = get_length_all_reviews(stripped_imdb['review'])"
      ],
      "execution_count": 0,
      "outputs": []
    },
    {
      "cell_type": "code",
      "metadata": {
        "id": "7MVvwXI110dK",
        "colab_type": "code",
        "colab": {}
      },
      "source": [
        "max(imdb_lengths)"
      ],
      "execution_count": 0,
      "outputs": []
    },
    {
      "cell_type": "code",
      "metadata": {
        "id": "4tPTisId13Hy",
        "colab_type": "code",
        "colab": {}
      },
      "source": [
        "def plot_histogram(sentence_lengths, x_dim):\n",
        "    '''\n",
        "    Plots histogram of length of all sentences\n",
        "    '''\n",
        "    plt.hist(sentence_lengths, 50, [0, x_dim])\n",
        "    plt.xlabel('Review length (words)')\n",
        "    plt.ylabel('Frequency')\n",
        "    plt.title('Review Lengths (Words per review)')\n",
        "    plt.show()\n",
        "\n",
        "plot_histogram(imdb_lengths, 2525)\n",
        "plot_histogram(imdb_lengths, 1200)"
      ],
      "execution_count": 0,
      "outputs": []
    },
    {
      "cell_type": "code",
      "metadata": {
        "id": "fsLmH-dm2BYr",
        "colab_type": "code",
        "colab": {}
      },
      "source": [
        "def create_tokenizer(max_words_to_keep, words_review_df):\n",
        "    '''\n",
        "    Creates tokenizer\n",
        "    Returns a tokenizer object and reviews converted to integers\n",
        "    '''\n",
        "    tokenizer = Tokenizer(num_words = max_words_to_keep,\n",
        "                          lower = True,\n",
        "                          split = ' ')\n",
        "    tokenizer.fit_on_texts(words_review_df['review'].values)\n",
        "    return tokenizer, \\\n",
        "           tokenizer.texts_to_sequences(words_review_df['review'].values)\n",
        "\n",
        "imdb_sequence_length = 1000\n",
        "vocabulary_length = 10000\n",
        "tokenizer, integer_reviews = create_tokenizer(vocabulary_length, stripped_imdb)"
      ],
      "execution_count": 0,
      "outputs": []
    },
    {
      "cell_type": "code",
      "metadata": {
        "id": "qiMN8MkB2iQd",
        "colab_type": "code",
        "colab": {}
      },
      "source": [
        "print(len(integer_reviews[100]))\n",
        "print(len(integer_reviews[200]))"
      ],
      "execution_count": 0,
      "outputs": []
    },
    {
      "cell_type": "code",
      "metadata": {
        "id": "fWNLsdWi23oT",
        "colab_type": "code",
        "colab": {}
      },
      "source": [
        "def pad_zeros(encoded_reviews, padding_length, padding = 'pre'):\n",
        "    '''\n",
        "    Pads integer reviews either left ('pre') or right ('post')\n",
        "    '''\n",
        "    return pad_sequences(encoded_reviews,\n",
        "                         maxlen = padding_length,\n",
        "                         padding = padding)\n",
        "\n",
        "padded_reviews = pad_zeros(integer_reviews, imdb_sequence_length, padding = 'pre')"
      ],
      "execution_count": 0,
      "outputs": []
    },
    {
      "cell_type": "code",
      "metadata": {
        "id": "qG-rjs953JWs",
        "colab_type": "code",
        "colab": {}
      },
      "source": [
        "print(len(padded_reviews[100]))\n",
        "print(len(padded_reviews[200]))"
      ],
      "execution_count": 0,
      "outputs": []
    },
    {
      "cell_type": "code",
      "metadata": {
        "id": "6iOMcIXV3Vas",
        "colab_type": "code",
        "colab": {}
      },
      "source": [
        "split = 0.2\n",
        "X_train, X_test, y_train, y_test = train_test_split(padded_reviews, stripped_imdb['sentiment'], test_size=split, random_state=42)\n",
        "\n",
        "X_train, X_val, y_train, y_val = train_test_split(X_train, y_train, test_size=split, random_state=1)"
      ],
      "execution_count": 0,
      "outputs": []
    },
    {
      "cell_type": "code",
      "metadata": {
        "id": "TAv2Ly0SMeeT",
        "colab_type": "code",
        "colab": {}
      },
      "source": [
        "print(\"Treino: \", len(X_train))\n",
        "print(\"Treino: \", len(X_val))\n",
        "print(\"Teste: \", len(X_test))"
      ],
      "execution_count": 0,
      "outputs": []
    },
    {
      "cell_type": "markdown",
      "metadata": {
        "id": "2LGRcKWD4blc",
        "colab_type": "text"
      },
      "source": [
        "### RNN"
      ]
    },
    {
      "cell_type": "code",
      "metadata": {
        "id": "LDu9_zdU4dFh",
        "colab_type": "code",
        "colab": {}
      },
      "source": [
        "def create_rnn_model(vocabulary_length):\n",
        "\n",
        "  model = Sequential()\n",
        "  model.add(Embedding(vocabulary_length, 32))\n",
        "  model.add(SimpleRNN(128))\n",
        "  model.add(Dense(1, activation='sigmoid'))\n",
        "  #optimizer = getattr(keras.optimizers, 'rmsprop')(lr = 0.001)\n",
        "  model.compile(loss = 'binary_crossentropy',optimizer = 'Adam', metrics = ['accuracy'])\n",
        "  \n",
        "  print(model.summary())\n",
        "  return model"
      ],
      "execution_count": 0,
      "outputs": []
    },
    {
      "cell_type": "code",
      "metadata": {
        "id": "L76HuWm-41Aq",
        "colab_type": "code",
        "colab": {}
      },
      "source": [
        "rnn_model = create_rnn_model(vocabulary_length)"
      ],
      "execution_count": 0,
      "outputs": []
    },
    {
      "cell_type": "code",
      "metadata": {
        "id": "iQ8wmyGEGCDL",
        "colab_type": "code",
        "colab": {}
      },
      "source": [
        "def train_model(model, X_train, y_train, X_test, y_test, X_val, y_val, batch_size, epochs) :\n",
        "\n",
        "    # Fit the model\n",
        "    history = model.fit(X_train, y_train, validation_data=(X_val, y_val), batch_size = batch_size, epochs = epochs, verbose = 1)\n",
        "  \n",
        "    # Final evaluation of the model\n",
        "    score, acc = model.evaluate(X_test, y_test, batch_size = batch_size)\n",
        "\n",
        "    print('Test score:', score)\n",
        "    print('Test accuracy:', acc)\n",
        "    return history, model"
      ],
      "execution_count": 0,
      "outputs": []
    },
    {
      "cell_type": "code",
      "metadata": {
        "id": "95mt7PbkGy6K",
        "colab_type": "code",
        "colab": {}
      },
      "source": [
        "history, rnn_model = train_model(rnn_model, X_train, y_train, X_test, y_test, 512, 10)"
      ],
      "execution_count": 0,
      "outputs": []
    },
    {
      "cell_type": "code",
      "metadata": {
        "id": "NTzqtd3VWNYi",
        "colab_type": "code",
        "colab": {}
      },
      "source": [
        "def plot_accuracy(history):\n",
        "  plt.plot(range(10), history.history['val_acc'], '--o')\n",
        "  plt.xlabel('Epochs')\n",
        "  plt.ylabel('Accuracy')\n",
        "  plt.title('Validation Accuracy After {} Epochs'.format(10))"
      ],
      "execution_count": 0,
      "outputs": []
    },
    {
      "cell_type": "code",
      "metadata": {
        "id": "EtqRVd97vVv6",
        "colab_type": "code",
        "colab": {}
      },
      "source": [
        "plot_accuracy(history)"
      ],
      "execution_count": 0,
      "outputs": []
    },
    {
      "cell_type": "code",
      "metadata": {
        "id": "5rzuh15aHKJM",
        "colab_type": "code",
        "colab": {}
      },
      "source": [
        "def save_model(model, name):\n",
        "  model.save(name)"
      ],
      "execution_count": 0,
      "outputs": []
    },
    {
      "cell_type": "code",
      "metadata": {
        "id": "87Q5M5CF0Ddh",
        "colab_type": "code",
        "colab": {}
      },
      "source": [
        "def load_keras_model(path):\n",
        "  model = load_model(path)\n",
        "  return model"
      ],
      "execution_count": 0,
      "outputs": []
    },
    {
      "cell_type": "code",
      "metadata": {
        "id": "9uQwmcU7uI1Q",
        "colab_type": "code",
        "colab": {}
      },
      "source": [
        "save_model(rnn_model, 'rnn_model_final.h5')"
      ],
      "execution_count": 0,
      "outputs": []
    },
    {
      "cell_type": "code",
      "metadata": {
        "id": "_z8F0iBZWwUn",
        "colab_type": "code",
        "colab": {}
      },
      "source": [
        "rnn_model = load_keras_model('/content/drive/My Drive/data/modelos/rnn_model.h5')"
      ],
      "execution_count": 0,
      "outputs": []
    },
    {
      "cell_type": "markdown",
      "metadata": {
        "id": "ZmdL2pOl2Y_v",
        "colab_type": "text"
      },
      "source": [
        "#### Evaluation"
      ]
    },
    {
      "cell_type": "code",
      "metadata": {
        "id": "j8stvagC2jfL",
        "colab_type": "code",
        "colab": {}
      },
      "source": [
        "prediction_rnn_test = rnn_model.predict_classes(X_test)\n",
        "prediction_rnn_test = prediction_rnn_test.reshape(10000, )"
      ],
      "execution_count": 0,
      "outputs": []
    },
    {
      "cell_type": "code",
      "metadata": {
        "id": "LgOLeOme4OZ8",
        "colab_type": "code",
        "colab": {}
      },
      "source": [
        "y_test_v = y_test.values\n",
        "y_test_v = y_test.astype(int)"
      ],
      "execution_count": 0,
      "outputs": []
    },
    {
      "cell_type": "code",
      "metadata": {
        "id": "yG_f0uP32Zh3",
        "colab_type": "code",
        "colab": {}
      },
      "source": [
        "# Accuracy\n",
        "\n",
        "accuracy_rnn_test = accuracy_score(y_test_v, prediction_rnn_test)\n",
        "print('Accuracy: %.3f' % accuracy_rnn_test)"
      ],
      "execution_count": 0,
      "outputs": []
    },
    {
      "cell_type": "code",
      "metadata": {
        "id": "jHU8vovz3iyl",
        "colab_type": "code",
        "colab": {}
      },
      "source": [
        "# Precision\n",
        "\n",
        "precision_rnn_test = precision_score(y_test_v, prediction_rnn_test, average='binary')\n",
        "print('Precision: %.3f' % precision_rnn_test)"
      ],
      "execution_count": 0,
      "outputs": []
    },
    {
      "cell_type": "code",
      "metadata": {
        "id": "9nmocK3K3jHR",
        "colab_type": "code",
        "colab": {}
      },
      "source": [
        "# Recall\n",
        "\n",
        "recall_rnn_test = recall_score(y_test_v, prediction_rnn_test, average='binary')\n",
        "print('Recall: %.3f' % recall_rnn_test)"
      ],
      "execution_count": 0,
      "outputs": []
    },
    {
      "cell_type": "code",
      "metadata": {
        "id": "wybFuSrC49jd",
        "colab_type": "code",
        "colab": {}
      },
      "source": [
        "# F1-scores\n",
        "\n",
        "score_rnn_test = f1_score(y_test_v, prediction_rnn_test, average='binary')\n",
        "print('F-Measure: %.3f' % score_rnn_test)"
      ],
      "execution_count": 0,
      "outputs": []
    },
    {
      "cell_type": "markdown",
      "metadata": {
        "id": "lD5waAWs-rkx",
        "colab_type": "text"
      },
      "source": [
        "## LSTM"
      ]
    },
    {
      "cell_type": "code",
      "metadata": {
        "id": "S8Ss1Ydw-tLA",
        "colab_type": "code",
        "colab": {}
      },
      "source": [
        "def create_lstm_model(vocabulary_length):\n",
        "    \n",
        "    model = Sequential()\n",
        "    model.add(Embedding(vocabulary_length, 32))\n",
        "    model.add(LSTM(128, dropout=0.2, recurrent_dropout=0.2))\n",
        "    model.add(Dense(1, activation = 'sigmoid'))\n",
        "\n",
        "    model.compile(loss='binary_crossentropy', optimizer='adam', metrics=['accuracy'])\n",
        "    print(model.summary())\n",
        "\n",
        "    return model"
      ],
      "execution_count": 0,
      "outputs": []
    },
    {
      "cell_type": "code",
      "metadata": {
        "id": "uJK7ADku-uRC",
        "colab_type": "code",
        "colab": {}
      },
      "source": [
        "lstm_model = create_lstm_model(vocabulary_length)"
      ],
      "execution_count": 0,
      "outputs": []
    },
    {
      "cell_type": "code",
      "metadata": {
        "id": "skN9VZaQ-uT0",
        "colab_type": "code",
        "colab": {}
      },
      "source": [
        "lstm_history, lstm_model = train_model(lstm_model, X_train, y_train, X_test, y_test, X_val, y_val, 1000, 10)"
      ],
      "execution_count": 0,
      "outputs": []
    },
    {
      "cell_type": "code",
      "metadata": {
        "id": "HvJNM_nmva-H",
        "colab_type": "code",
        "colab": {}
      },
      "source": [
        "plot_accuracy(lstm_history)"
      ],
      "execution_count": 0,
      "outputs": []
    },
    {
      "cell_type": "code",
      "metadata": {
        "id": "gKmRQkQZqFFf",
        "colab_type": "code",
        "colab": {}
      },
      "source": [
        "save_model(lstm_model, 'lstm_model.h5')"
      ],
      "execution_count": 0,
      "outputs": []
    },
    {
      "cell_type": "code",
      "metadata": {
        "id": "S3Usbpy6uSnE",
        "colab_type": "code",
        "colab": {}
      },
      "source": [
        "lstm_model = load_keras_model('/content/drive/My Drive/data/modelos/lstm_model.h5')"
      ],
      "execution_count": 0,
      "outputs": []
    },
    {
      "cell_type": "markdown",
      "metadata": {
        "id": "FA2TbDHS5SEF",
        "colab_type": "text"
      },
      "source": [
        "#### Evaluation"
      ]
    },
    {
      "cell_type": "code",
      "metadata": {
        "id": "2sq9J0z75UQM",
        "colab_type": "code",
        "colab": {}
      },
      "source": [
        "prediction_lstm_test = lstm_model.predict_classes(X_test)\n",
        "prediction_lstm_test = prediction_lstm_test.reshape(10000, )"
      ],
      "execution_count": 0,
      "outputs": []
    },
    {
      "cell_type": "code",
      "metadata": {
        "id": "rORH_KIk5Uhj",
        "colab_type": "code",
        "colab": {}
      },
      "source": [
        "# Accuracy\n",
        "\n",
        "accuracy_lstm_test = accuracy_score(y_test_v, prediction_lstm_test)\n",
        "print('Accuracy: %.3f' % accuracy_lstm_test)"
      ],
      "execution_count": 0,
      "outputs": []
    },
    {
      "cell_type": "code",
      "metadata": {
        "id": "1p6RPRnJ5Us1",
        "colab_type": "code",
        "colab": {}
      },
      "source": [
        "# Precision\n",
        "\n",
        "precision_lstm_test = precision_score(y_test_v, prediction_lstm_test, average='binary')\n",
        "print('Precision: %.3f' % precision_lstm_test)"
      ],
      "execution_count": 0,
      "outputs": []
    },
    {
      "cell_type": "code",
      "metadata": {
        "id": "aweXtzto5ncS",
        "colab_type": "code",
        "colab": {}
      },
      "source": [
        "# Recall\n",
        "\n",
        "recall_lstm_test = recall_score(y_test_v, prediction_lstm_test, average='binary')\n",
        "print('Recall: %.3f' % recall_lstm_test)"
      ],
      "execution_count": 0,
      "outputs": []
    },
    {
      "cell_type": "code",
      "metadata": {
        "id": "aI4hsQiK5n6J",
        "colab_type": "code",
        "colab": {}
      },
      "source": [
        "# F1-scores\n",
        "\n",
        "score_lstm_test = f1_score(y_test_v, prediction_lstm_test, average='binary')\n",
        "print('F-Measure: %.3f' % score_lstm_test)"
      ],
      "execution_count": 0,
      "outputs": []
    },
    {
      "cell_type": "markdown",
      "metadata": {
        "id": "mT4NLEBVzFSV",
        "colab_type": "text"
      },
      "source": [
        "## LSTM Attention"
      ]
    },
    {
      "cell_type": "code",
      "metadata": {
        "id": "9R1i24FvzI7-",
        "colab_type": "code",
        "colab": {}
      },
      "source": [
        "from google.colab import files\n",
        "src = list(files.upload().values())[0]\n",
        "open('layers.py','wb').write(src)\n",
        "from layers import AttentionWithContext, Addition"
      ],
      "execution_count": 0,
      "outputs": []
    },
    {
      "cell_type": "code",
      "metadata": {
        "id": "P9K7Va1gzJAY",
        "colab_type": "code",
        "colab": {}
      },
      "source": [
        "def create_lstm_attention_model(vocabulary_length, hidden_units, num_layers, is_attention, is_bidirectional):\n",
        "\tnum_classes = 2\n",
        "\t\n",
        "\tadam = optimizers.Adam(lr=0.0005, beta_1=0.9, beta_2=0.999, epsilon=1e-08, decay=0.01)\n",
        "\t\n",
        "\tmodel = Sequential()\n",
        "\tmodel.add(Embedding(vocabulary_length, 32))\n",
        "\n",
        "\tfor i in range(num_layers):\n",
        "\t\treturn_sequences = is_attention or (num_layers > 1 and i < num_layers-1)\n",
        "\n",
        "\t\tif is_bidirectional:\n",
        "\t\t\tmodel.add(Bidirectional(LSTM(hidden_units, return_sequences=return_sequences, dropout=0.2, kernel_initializer=initializers.glorot_normal(seed=777), bias_initializer='zeros')))\n",
        "\t\telse:\n",
        "\t\t\tmodel.add(LSTM(hidden_units, return_sequences=return_sequences, dropout=0.2, kernel_initializer=initializers.glorot_normal(seed=777), bias_initializer='zeros'))\n",
        "\t\t\n",
        "\t\tif is_attention:\n",
        "\t\t\tmodel.add(AttentionWithContext())\n",
        "\t\t\tmodel.add(Addition())\n",
        "\n",
        "\tmodel.add(Dense(1, activation='sigmoid', kernel_initializer=initializers.glorot_normal(seed=777), bias_initializer='zeros'))\n",
        "\tmodel.compile(loss='binary_crossentropy',optimizer=adam,metrics=[\"accuracy\"])\n",
        "\tmodel.summary()\n",
        "\n",
        "\treturn model"
      ],
      "execution_count": 0,
      "outputs": []
    },
    {
      "cell_type": "code",
      "metadata": {
        "id": "v8qmZlEZzJRr",
        "colab_type": "code",
        "colab": {}
      },
      "source": [
        "lstm_attention_model = create_lstm_attention_model(vocabulary_length, 128, 1, True, True)"
      ],
      "execution_count": 0,
      "outputs": []
    },
    {
      "cell_type": "code",
      "metadata": {
        "id": "Wk2s4tFt2b5_",
        "colab_type": "code",
        "colab": {}
      },
      "source": [
        "lstm_attention_history, lstm_attention_model = train_model(lstm_attention_model, X_train, y_train, X_test, y_test, X_val, y_val, 128, 10)"
      ],
      "execution_count": 0,
      "outputs": []
    },
    {
      "cell_type": "code",
      "metadata": {
        "id": "cIpy5soK2362",
        "colab_type": "code",
        "colab": {}
      },
      "source": [
        "plot_accuracy(lstm_attention_history)"
      ],
      "execution_count": 0,
      "outputs": []
    },
    {
      "cell_type": "markdown",
      "metadata": {
        "id": "x6YspUC96PJc",
        "colab_type": "text"
      },
      "source": [
        "#### Evaluation"
      ]
    },
    {
      "cell_type": "code",
      "metadata": {
        "id": "6T0PF4oX6RPY",
        "colab_type": "code",
        "colab": {}
      },
      "source": [
        "prediction_lstm_attention_test = lstm_attention_model.predict_classes(X_test)\n",
        "prediction_lstm_attention_test = prediction_lstm_attention_test.reshape(10000, )"
      ],
      "execution_count": 0,
      "outputs": []
    },
    {
      "cell_type": "code",
      "metadata": {
        "id": "7sP6j6id6Ra5",
        "colab_type": "code",
        "colab": {}
      },
      "source": [
        "# Accuracy\n",
        "\n",
        "accuracy_lstm_attention_test = accuracy_score(y_test_v, prediction_lstm_attention_test)\n",
        "print('Accuracy: %.3f' % accuracy_lstm_attention_test)\\"
      ],
      "execution_count": 0,
      "outputs": []
    },
    {
      "cell_type": "code",
      "metadata": {
        "id": "BNk2lleZ6RlO",
        "colab_type": "code",
        "colab": {}
      },
      "source": [
        "# Precision\n",
        "\n",
        "precision_lstm_attention_test = precision_score(y_test_v, prediction_lstm_attention_test, average='binary')\n",
        "print('Precision: %.3f' % precision_lstm_attention_test)"
      ],
      "execution_count": 0,
      "outputs": []
    },
    {
      "cell_type": "code",
      "metadata": {
        "id": "jOVzHzSD6SKc",
        "colab_type": "code",
        "colab": {}
      },
      "source": [
        "# Recall\n",
        "\n",
        "recall_lstm_attention_test = recall_score(y_test_v, prediction_lstm_attention_test, average='binary')\n",
        "print('Recall: %.3f' % recall_lstm_attention_test)"
      ],
      "execution_count": 0,
      "outputs": []
    },
    {
      "cell_type": "code",
      "metadata": {
        "id": "0zLRZCYe6o8t",
        "colab_type": "code",
        "colab": {}
      },
      "source": [
        "# F1-scores\n",
        "\n",
        "score_lstm_attention_test = f1_score(y_test_v, prediction_lstm_attention_test, average='binary')\n",
        "print('F-Measure: %.3f' % score_lstm_attention_test)"
      ],
      "execution_count": 0,
      "outputs": []
    },
    {
      "cell_type": "markdown",
      "metadata": {
        "id": "p7vDYnst-niv",
        "colab_type": "text"
      },
      "source": [
        "## Reviews Airbnb"
      ]
    },
    {
      "cell_type": "code",
      "metadata": {
        "id": "xGH-Dwoi1PCv",
        "colab_type": "code",
        "colab": {}
      },
      "source": [
        "def load_reviews_airbnb(path):\n",
        "  reviews_airbnb = pd.read_csv(path)\n",
        "  #ingles = reviews_airbnb[reviews_airbnb['language'] == 'en']\n",
        "  reviews_airbnb = reviews_airbnb[['comments']]\n",
        "  reviews_airbnb['sentiment'] = None\n",
        "  reviews_airbnb.columns = ['review', 'sentiment']\n",
        "\n",
        "  stripped_airbnb = strip_punctuation_and_whitespace(reviews_airbnb, verbose = False)\n",
        "  airbnb_lengths = get_length_all_reviews(stripped_airbnb['review'])\n",
        "  plot_histogram(airbnb_lengths, 400)\n",
        "  airbnb_sequence_length = 250\n",
        "  airbnb_tokenizer, airbnb_integer_reviews = create_tokenizer(vocabulary_length,stripped_airbnb)\n",
        "  print(len(airbnb_integer_reviews[100]))\n",
        "  print(len(airbnb_integer_reviews[200]))\n",
        "  airbnb_padded_reviews = pad_zeros(airbnb_integer_reviews, airbnb_sequence_length, padding = 'pre')\n",
        "  return stripped_airbnb, airbnb_padded_reviews"
      ],
      "execution_count": 0,
      "outputs": []
    },
    {
      "cell_type": "code",
      "metadata": {
        "id": "pKclexkisYxW",
        "colab_type": "code",
        "colab": {}
      },
      "source": [
        "def load_airbnb_sample(path):\n",
        "  airbnb_sample = pd.read_csv(path)\n",
        "  airbnb_sample.drop(['Unnamed: 0'], axis=1, inplace=True)\n",
        "  airbnb_sample = airbnb_sample[['comments', 'sentiment']]\n",
        "  airbnb_sample.columns = ['review', 'sentiment']\n",
        "\n",
        "  stripped_airbnb = strip_punctuation_and_whitespace(airbnb_sample, verbose = False)\n",
        "  airbnb_lengths = get_length_all_reviews(stripped_airbnb['review'])\n",
        "  plot_histogram(airbnb_lengths, 400)\n",
        "  airbnb_sequence_length = 150\n",
        "  airbnb_tokenizer, airbnb_integer_reviews = create_tokenizer(vocabulary_length,stripped_airbnb)\n",
        "  print(len(airbnb_integer_reviews[100]))\n",
        "  print(len(airbnb_integer_reviews[200]))\n",
        "  airbnb_padded_reviews = pad_zeros(airbnb_integer_reviews, airbnb_sequence_length, padding = 'pre')\n",
        "  return stripped_airbnb, airbnb_padded_reviews"
      ],
      "execution_count": 0,
      "outputs": []
    },
    {
      "cell_type": "code",
      "metadata": {
        "id": "vuyWk9sc3B_b",
        "colab_type": "code",
        "colab": {}
      },
      "source": [
        "stripped_airbnb, airbnb_padded_reviews = load_reviews_airbnb('reviews_rio_preprocessed.csv')"
      ],
      "execution_count": 0,
      "outputs": []
    },
    {
      "cell_type": "code",
      "metadata": {
        "id": "eCmvcS5Zsy1e",
        "colab_type": "code",
        "colab": {}
      },
      "source": [
        "stripped_sample_airbnb, airbnb_padded_sample = load_airbnb_sample('sample_airbnb.csv')\n",
        "y_test_sample = stripped_sample_airbnb['sentiment'].values\n",
        "y_test_sample = y_test_sample.astype(int)"
      ],
      "execution_count": 0,
      "outputs": []
    },
    {
      "cell_type": "markdown",
      "metadata": {
        "id": "nHD5682boLeq",
        "colab_type": "text"
      },
      "source": [
        "## RNN Prediction"
      ]
    },
    {
      "cell_type": "markdown",
      "metadata": {
        "id": "piM3Ns6ctJI4",
        "colab_type": "text"
      },
      "source": [
        "#### População"
      ]
    },
    {
      "cell_type": "code",
      "metadata": {
        "id": "-JJ6J8ug5BEk",
        "colab_type": "code",
        "colab": {}
      },
      "source": [
        "prediction_rnn = rnn_model.predict_classes(airbnb_padded_reviews)"
      ],
      "execution_count": 0,
      "outputs": []
    },
    {
      "cell_type": "code",
      "metadata": {
        "id": "HNumImjQ8gHH",
        "colab_type": "code",
        "colab": {}
      },
      "source": [
        "unique, counts = np.unique(prediction_rnn, return_counts=True)\n",
        "dict(zip(unique, counts))"
      ],
      "execution_count": 0,
      "outputs": []
    },
    {
      "cell_type": "markdown",
      "metadata": {
        "id": "O6CwERROtQpz",
        "colab_type": "text"
      },
      "source": [
        "#### Amostra"
      ]
    },
    {
      "cell_type": "code",
      "metadata": {
        "id": "BLmExzRgtTc7",
        "colab_type": "code",
        "colab": {}
      },
      "source": [
        "prediction_rnn_sample = rnn_model.predict_classes(airbnb_padded_sample)"
      ],
      "execution_count": 0,
      "outputs": []
    },
    {
      "cell_type": "code",
      "metadata": {
        "id": "3CW5lzfrxzFE",
        "colab_type": "code",
        "colab": {}
      },
      "source": [
        "unique, counts = np.unique(prediction_rnn_sample, return_counts=True)\n",
        "dict(zip(unique, counts))"
      ],
      "execution_count": 0,
      "outputs": []
    },
    {
      "cell_type": "code",
      "metadata": {
        "id": "_HB_kVv6oeX_",
        "colab_type": "code",
        "colab": {}
      },
      "source": [
        "prediction_rnn_sample_r = prediction_rnn_sample.reshape(382, )\n",
        "matrix_rnn = confusion_matrix(y_test_sample, prediction_rnn_sample_r)"
      ],
      "execution_count": 0,
      "outputs": []
    },
    {
      "cell_type": "code",
      "metadata": {
        "id": "gmzFiZf-yFML",
        "colab_type": "code",
        "colab": {}
      },
      "source": [
        "matrix_rnn"
      ],
      "execution_count": 0,
      "outputs": []
    },
    {
      "cell_type": "code",
      "metadata": {
        "id": "PKqpuBvYp5be",
        "colab_type": "code",
        "colab": {}
      },
      "source": [
        "df_matrix_rnn = pd.DataFrame(matrix_rnn, index = ['Negativo', 'Positivo'], columns= ['Negativo', 'Positivo'])\n",
        "plt.figure(figsize=(8,7))\n",
        "sn.set(font_scale=1.4)\n",
        "sn.heatmap(df_matrix_rnn, annot=True,  fmt='g', annot_kws={\"size\": 16})"
      ],
      "execution_count": 0,
      "outputs": []
    },
    {
      "cell_type": "code",
      "metadata": {
        "id": "I0ci0ugG5gVq",
        "colab_type": "code",
        "colab": {}
      },
      "source": [
        "# Accuracy\n",
        "\n",
        "accuracy_rnn = accuracy_score(y_test_sample, prediction_rnn_sample_r)\n",
        "print('Accuracy: %.3f' % accuracy_rnn)"
      ],
      "execution_count": 0,
      "outputs": []
    },
    {
      "cell_type": "code",
      "metadata": {
        "id": "jL4HsQvh5mdZ",
        "colab_type": "code",
        "colab": {}
      },
      "source": [
        "# Precision\n",
        "\n",
        "precision_rnn = precision_score(y_test_sample, prediction_rnn_sample_r, average='binary')\n",
        "print('Precision: %.3f' % precision_rnn)"
      ],
      "execution_count": 0,
      "outputs": []
    },
    {
      "cell_type": "code",
      "metadata": {
        "id": "O43yhfBX5ohh",
        "colab_type": "code",
        "colab": {}
      },
      "source": [
        "# Recall\n",
        "\n",
        "recall_rnn = recall_score(y_test_sample, prediction_rnn_sample_r, average='binary')\n",
        "print('Recall: %.3f' % recall_rnn)"
      ],
      "execution_count": 0,
      "outputs": []
    },
    {
      "cell_type": "code",
      "metadata": {
        "id": "e53ubzf2fpnS",
        "colab_type": "code",
        "colab": {}
      },
      "source": [
        "# F1-scores\n",
        "\n",
        "score_rnn = f1_score(y_test_sample, prediction_rnn_sample_r, average='binary')\n",
        "print('F-Measure: %.3f' % score_rnn)"
      ],
      "execution_count": 0,
      "outputs": []
    },
    {
      "cell_type": "markdown",
      "metadata": {
        "id": "BoPW3XQLrtQS",
        "colab_type": "text"
      },
      "source": [
        "## LSTM Prediction"
      ]
    },
    {
      "cell_type": "markdown",
      "metadata": {
        "id": "eja1zMSI1cuV",
        "colab_type": "text"
      },
      "source": [
        "#### População"
      ]
    },
    {
      "cell_type": "code",
      "metadata": {
        "id": "bkRufO2srwOf",
        "colab_type": "code",
        "colab": {}
      },
      "source": [
        "prediction_lstm = lstm_model.predict_classes(airbnb_padded_reviews)"
      ],
      "execution_count": 0,
      "outputs": []
    },
    {
      "cell_type": "code",
      "metadata": {
        "id": "zaytgCcjsBBe",
        "colab_type": "code",
        "colab": {}
      },
      "source": [
        "unique_lstm, counts_lstm = np.unique(prediction_lstm, return_counts=True)\n",
        "dict(zip(unique_lstm, counts_lstm))"
      ],
      "execution_count": 0,
      "outputs": []
    },
    {
      "cell_type": "markdown",
      "metadata": {
        "id": "Oo6KMuBX1f48",
        "colab_type": "text"
      },
      "source": [
        "#### Amostra"
      ]
    },
    {
      "cell_type": "code",
      "metadata": {
        "id": "5zB1_jCk1mlK",
        "colab_type": "code",
        "colab": {}
      },
      "source": [
        "prediction_lstm_sample = lstm_model.predict_classes(airbnb_padded_sample)"
      ],
      "execution_count": 0,
      "outputs": []
    },
    {
      "cell_type": "code",
      "metadata": {
        "id": "5KAN4Nfx1ow6",
        "colab_type": "code",
        "colab": {}
      },
      "source": [
        "unique, counts = np.unique(prediction_lstm_sample, return_counts=True)\n",
        "dict(zip(unique, counts))"
      ],
      "execution_count": 0,
      "outputs": []
    },
    {
      "cell_type": "code",
      "metadata": {
        "id": "LMjkJa7EqFpr",
        "colab_type": "code",
        "colab": {}
      },
      "source": [
        "prediction_lstm_sample_r = prediction_lstm_sample.reshape(382, )\n",
        "matrix_lstm = confusion_matrix(y_test_sample, prediction_lstm_sample_r)"
      ],
      "execution_count": 0,
      "outputs": []
    },
    {
      "cell_type": "code",
      "metadata": {
        "id": "BqReOPdsqGBE",
        "colab_type": "code",
        "colab": {}
      },
      "source": [
        "df_matrix_lstm = pd.DataFrame(matrix_lstm, index = ['Negativo', 'Positivo'], columns= ['Negativo', 'Positivo'])\n",
        "plt.figure(figsize=(8,7))\n",
        "sn.set(font_scale=1.4)\n",
        "sn.heatmap(df_matrix_lstm, annot=True,  fmt='g', annot_kws={\"size\": 16})"
      ],
      "execution_count": 0,
      "outputs": []
    },
    {
      "cell_type": "code",
      "metadata": {
        "id": "vMMfcjpq6ZlX",
        "colab_type": "code",
        "colab": {}
      },
      "source": [
        "# Accuracy\n",
        "\n",
        "accuracy_lstm = accuracy_score(y_test_sample, prediction_lstm_sample_r)\n",
        "print('Accuracy: %.3f' % accuracy_lstm)"
      ],
      "execution_count": 0,
      "outputs": []
    },
    {
      "cell_type": "code",
      "metadata": {
        "id": "aMUDOhiN6Z1u",
        "colab_type": "code",
        "colab": {}
      },
      "source": [
        "# Precision\n",
        "\n",
        "precision_lstm = precision_score(y_test_sample, prediction_lstm_sample_r, average='binary')\n",
        "print('Precision: %.3f' % precision_lstm)"
      ],
      "execution_count": 0,
      "outputs": []
    },
    {
      "cell_type": "code",
      "metadata": {
        "id": "ikzOX2DW6aJt",
        "colab_type": "code",
        "colab": {}
      },
      "source": [
        "# Recall\n",
        "\n",
        "recall_lstm = recall_score(y_test_sample, prediction_lstm_sample_r, average='binary')\n",
        "print('Recall: %.3f' % recall_lstm)"
      ],
      "execution_count": 0,
      "outputs": []
    },
    {
      "cell_type": "code",
      "metadata": {
        "id": "WS3tNKQYgMMl",
        "colab_type": "code",
        "colab": {}
      },
      "source": [
        "# F1-scores\n",
        "\n",
        "score_lstm = f1_score(y_test_sample, prediction_lstm_sample_r, average='binary')\n",
        "print('F-Measure: %.3f' % score_lstm)"
      ],
      "execution_count": 0,
      "outputs": []
    },
    {
      "cell_type": "markdown",
      "metadata": {
        "id": "uZbX8rSqy8t4",
        "colab_type": "text"
      },
      "source": [
        "## LSTM Attention Prediction"
      ]
    },
    {
      "cell_type": "markdown",
      "metadata": {
        "id": "E2Aomqsh68SG",
        "colab_type": "text"
      },
      "source": [
        "#### População"
      ]
    },
    {
      "cell_type": "code",
      "metadata": {
        "id": "yeIl1Ufl9uuQ",
        "colab_type": "code",
        "colab": {}
      },
      "source": [
        "prediction_lstm_attention_sample = lstm_attention_model.predict_classes(airbnb_padded_reviews)"
      ],
      "execution_count": 0,
      "outputs": []
    },
    {
      "cell_type": "code",
      "metadata": {
        "id": "Kzl7eRkrKXIf",
        "colab_type": "code",
        "colab": {}
      },
      "source": [
        "unique, counts = np.unique(prediction_lstm_attention_sample, return_counts=True)\n",
        "dict(zip(unique, counts))"
      ],
      "execution_count": 0,
      "outputs": []
    },
    {
      "cell_type": "markdown",
      "metadata": {
        "id": "2PPrwJJo7ADl",
        "colab_type": "text"
      },
      "source": [
        "#### Amostra"
      ]
    },
    {
      "cell_type": "code",
      "metadata": {
        "id": "2sBcRLW27EbR",
        "colab_type": "code",
        "colab": {}
      },
      "source": [
        "prediction_lstm_attention_sample = lstm_attention_model.predict_classes(airbnb_padded_sample)"
      ],
      "execution_count": 0,
      "outputs": []
    },
    {
      "cell_type": "code",
      "metadata": {
        "id": "2iN-NLdd7EpJ",
        "colab_type": "code",
        "colab": {}
      },
      "source": [
        "unique, counts = np.unique(prediction_lstm_attention_sample, return_counts=True)\n",
        "dict(zip(unique, counts))"
      ],
      "execution_count": 0,
      "outputs": []
    },
    {
      "cell_type": "code",
      "metadata": {
        "id": "l8a9EWBL7NYJ",
        "colab_type": "code",
        "colab": {}
      },
      "source": [
        "prediction_lstm_attention_sample_r = prediction_lstm_attention_sample.reshape(382, )\n",
        "matrix_lstm_attention = confusion_matrix(y_test_sample, prediction_lstm_attention_sample_r)"
      ],
      "execution_count": 0,
      "outputs": []
    },
    {
      "cell_type": "code",
      "metadata": {
        "id": "JJHOqhtW8sEH",
        "colab_type": "code",
        "colab": {}
      },
      "source": [
        "# Accuracy\n",
        "\n",
        "accuracy_lstm_attention = accuracy_score(y_test_sample, prediction_lstm_attention_sample_r)\n",
        "print('Accuracy: %.3f' % accuracy_lstm_attention)"
      ],
      "execution_count": 0,
      "outputs": []
    },
    {
      "cell_type": "code",
      "metadata": {
        "id": "F5Efy4Hx8sfW",
        "colab_type": "code",
        "colab": {}
      },
      "source": [
        "# Precision\n",
        "\n",
        "precision_lstm_attention = precision_score(y_test_sample, prediction_lstm_attention_sample_r, average='binary')\n",
        "print('Precision: %.3f' % precision_lstm_attention)"
      ],
      "execution_count": 0,
      "outputs": []
    },
    {
      "cell_type": "code",
      "metadata": {
        "id": "TG2AuoID9dqf",
        "colab_type": "code",
        "colab": {}
      },
      "source": [
        "# Recall\n",
        "\n",
        "recall_lstm_attention = recall_score(y_test_sample, prediction_lstm_attention_sample_r, average='binary')\n",
        "print('Recall: %.3f' % recall_lstm_attention)"
      ],
      "execution_count": 0,
      "outputs": []
    },
    {
      "cell_type": "code",
      "metadata": {
        "id": "Gy1ArS8a9eJk",
        "colab_type": "code",
        "colab": {}
      },
      "source": [
        "# F1-scores\n",
        "\n",
        "score_lstm_attention = f1_score(y_test_sample, prediction_lstm_attention_sample_r, average='binary')\n",
        "print('F-Measure: %.3f' % score_lstm_attention)"
      ],
      "execution_count": 0,
      "outputs": []
    },
    {
      "cell_type": "code",
      "metadata": {
        "id": "sm84lTpiqSGO",
        "colab_type": "code",
        "colab": {}
      },
      "source": [
        "df_matrix_lstm_attention = pd.DataFrame(matrix_lstm, index = ['Negativo', 'Positivo'], columns= ['Negativo', 'Positivo'])\n",
        "plt.figure(figsize=(8,7))\n",
        "sn.set(font_scale=1.4)\n",
        "sn.heatmap(df_matrix_lstm_attention, annot=True,  fmt='g', annot_kws={\"size\": 16})"
      ],
      "execution_count": 0,
      "outputs": []
    }
  ]
}